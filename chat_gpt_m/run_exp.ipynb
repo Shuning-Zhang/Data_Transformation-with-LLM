{
 "cells": [
  {
   "cell_type": "code",
   "execution_count": 1,
   "metadata": {},
   "outputs": [],
   "source": [
    "from model import GPT_Model\n",
    "import pandas as pd"
   ]
  },
  {
   "cell_type": "code",
   "execution_count": 2,
   "metadata": {},
   "outputs": [],
   "source": [
    "template_c= '''\n",
    "\n",
    "    Given an example input and output dataset, learn how the transformation performed from the provided input dataset to the output dataset. \n",
    "        \n",
    "    Pay attention to the size difference between the input and output dataset.\n",
    "    \n",
    "    Generate python function with no explanations needed. \n",
    "        \n",
    "    input dataset: {input_list} \n",
    "    output dataset: {output_list}\n",
    "\n",
    "'''"
   ]
  },
  {
   "cell_type": "code",
   "execution_count": 3,
   "metadata": {},
   "outputs": [],
   "source": [
    "GPT_Model = GPT_Model('sk-GardnCuVxSwbqswZ1a55F262A4D74431Af05AbD6D5C72dA2',3.5)"
   ]
  },
  {
   "cell_type": "code",
   "execution_count": 4,
   "metadata": {},
   "outputs": [
    {
     "name": "stdout",
     "output_type": "stream",
     "text": [
      "potters_wheel_unfold2 1 : 161\n",
      "potters_wheel_unfold2 2 : 250\n",
      "potters_wheel_unfold2 3 : 282\n",
      "potters_wheel_unfold2 4 : 303\n",
      "potters_wheel_unfold2 5 : 370\n",
      "proactive_wrangling_fold 1 : 226\n",
      "proactive_wrangling_fold 2 : 269\n",
      "proactive_wrangling_fold 3 : 298\n",
      "proactive_wrangling_fold 4 : 365\n",
      "proactive_wrangling_fold 5 : 408\n",
      "proactive_wrangling_complex 1 : 308\n",
      "proactive_wrangling_complex 2 : 395\n",
      "proactive_wrangling_complex 3 : 531\n",
      "proactive_wrangling_complex 4 : 543\n",
      "proactive_wrangling_complex 5 : 721\n",
      "reshape_table_structure_data_wrangler 1 : 351\n",
      "reshape_table_structure_data_wrangler 2 : 576\n",
      "reshape_table_structure_data_wrangler 3 : 844\n",
      "reshape_table_structure_data_wrangler 4 : 1035\n",
      "reshape_table_structure_data_wrangler 5 : 1221\n"
     ]
    }
   ],
   "source": [
    "result = GPT_Model.gpt_output(template_c)\n",
    "# print(result)\n",
    "output= []\n",
    "for x in result:\n",
    "    o = x[1].split('\\n\\ninput_data')\n",
    "    d = {'data': x[0],'output': o[0]}\n",
    "\n",
    "    output.append(d)\n",
    "df = pd.DataFrame(output)\n",
    "df.to_csv('output_chat_gpt_3_5.csv', index=False)"
   ]
  },
  {
   "cell_type": "code",
   "execution_count": 6,
   "metadata": {},
   "outputs": [
    {
     "name": "stdout",
     "output_type": "stream",
     "text": [
      "[['craigslist_data_wrangler_1', \"def transform_data(input_data):\\n    output_data = []\\n    for item in input_data:\\n        words = item[0].split()\\n        for word in words:\\n            if word.startswith('$'):\\n                output_data.append(word)\\n            elif word.isdigit():\\n                output_data.append(word)\\n    return [output_data]\\n\\n# Test the function with the provided input dataset\\ninput_data = [['$2475 / 2br - Superb location - (palo alto) pic']]\\noutput_data = transform_data(input_data)\\nprint(output_data)\"], ['craigslist_data_wrangler_2', \"def transform_data(input_data):\\n    output_data = []\\n    for item in input_data:\\n        temp = item[0].split(' - ')[0].split(' / ')\\n        output_data.append([temp[0], temp[1].split('br')[0]])\\n    return output_data\\n\\n# Test the function with the provided input dataset\\ninput_dataset = [['$2475 / 2br - Superb location - (palo alto) pic'], ['$1975 / 3br - Lower unit in 2 plex. Parking. Laundry. Garden. Walk to Bart - (berkeley) img']]\\noutput_dataset = transform_data(input_dataset)\\nprint(output_dataset)\"], ['craigslist_data_wrangler_3', \"def transform_data(input_data):\\n    output_data = []\\n    for item in input_data:\\n        price = item[0].split()[0]\\n        bedrooms = item[0].split()[2].split('-')[0]\\n        output_data.append([price, bedrooms])\\n    return output_data\\n\\ninput_dataset = [['$2475 / 2br - Superb location - (palo alto) pic'], ['$1975 / 3br - Lower unit in 2 plex. Parking. Laundry. Garden. Walk to Bart - (berkeley) img'], ['$1200 / 3br - Lovely Vacation Rental on the 10th fairway of the East Golf Course. - (santa rosa) pic']]\\noutput_dataset = transform_data(input_dataset)\\nprint(output_dataset)\"], ['craigslist_data_wrangler_4', \"def transform_dataset(input_data):\\n    output_data = []\\n    for item in input_data:\\n        price = item[0].split()[0]\\n        bedrooms = item[0].split()[2].split('-')[0]\\n        output_data.append([price, bedrooms])\\n    return output_data\\n\\ninput_dataset = [['$2475 / 2br - Superb location - (palo alto) pic'], ['$1975 / 3br - Lower unit in 2 plex. Parking. Laundry. Garden. Walk to Bart - (berkeley) img'], ['$1200 / 3br - Lovely Vacation Rental on the 10th fairway of the East Golf Course. - (santa rosa) pic'], ['$1800 / 2br - Townhouse in Quiet Complex - (san rafael) pic']]\\noutput_dataset = transform_dataset(input_dataset)\\n\\nprint(output_dataset)\"], ['craigslist_data_wrangler_5', \"```python\\ndef transform_dataset(input_data):\\n    output_data = []\\n    for item in input_data:\\n        price = item[0].split()[0]\\n        bedrooms = item[0].split()[2].split('-')[0]\\n        output_data.append([price, bedrooms])\\n    return output_data\\n\\n# Example input dataset\\ninput_dataset = [['$2475 / 2br - Superb location - (palo alto) pic'], ['$1975 / 3br - Lower unit in 2 plex. Parking. Laundry. Garden. Walk to Bart - (berkeley) img'], ['$1200 / 3br - Lovely Vacation Rental on the 10th fairway of the East Golf Course. - (santa rosa) pic'], ['$1800 / 2br - Townhouse in Quiet Complex - (san rafael) pic'], ['$1047 / 5br - 5 bdrm, 2 bthrm nuetral decor - new Carpet, luxurious home - (San Francisco) img']]\\n\\n# Applying the transformation function\\noutput_dataset = transform_dataset(input_dataset)\\n\\n# Print the output dataset\\nprint(output_dataset)\\n```\"], ['crime_data_wrangler_1', \"```python\\ndef transform_dataset(input_data):\\n    output_data = []\\n    output_data.append([input_data[i][0] for i in range(len(input_data))])\\n    output_data.append([input_data[i][1] for i in range(len(input_data))])\\n    \\n    return output_data\\n\\ninput_data = [['Reported crime in District of Columbia', ''], ['', ''], ['2004', '4852.8'], ['2005', '4490'], ['2006', '4653.9'], ['2007', '4916.3'], ['2008', '5104.6']]\\noutput_data = transform_dataset(input_data)\\nprint(output_data)\\n```\"], ['crime_data_wrangler_2', \"```python\\ndef transform_dataset(input_data):\\n    output_data = []\\n    temp = []\\n    \\n    for item in input_data:\\n        if item[0] == '':\\n            if temp:\\n                output_data.append(temp)\\n                temp = []\\n        else:\\n            temp.append(item[0])\\n            temp.extend(item[1:])\\n    \\n    if temp:\\n        output_data.append(temp)\\n    \\n    return output_data\\n\\ninput_data = [['Reported crime in District of Columbia', ''], ['', ''], ['2004', '4852.8'], ['2005', '4490'], ['2006', '4653.9'], ['2007', '4916.3'], ['2008', '5104.6'], ['', ''], ['Reported crime in New Hampshire', ''], ['', ''], ['2004', '2051.9'], ['2005', '1839'], ['2006', '2061.8'], ['2007', '1968.6'], ['2008', '2132.1']]\\n\\noutput_data = transform_dataset(input_data)\\nprint(output_data)\\n```\"], ['crime_data_wrangler_3', \"```python\\ndef transform_dataset(input_dataset):\\n    output_dataset = []\\n    temp = []\\n    \\n    for item in input_dataset:\\n        if item[0] == '':\\n            if temp:\\n                output_dataset.append(temp)\\n                temp = []\\n        else:\\n            temp.append(item[0])\\n            temp.extend(item[1:])\\n    \\n    if temp:\\n        output_dataset.append(temp)\\n    \\n    return output_dataset\\n\\n# Example input and output dataset\\ninput_dataset = [['Reported crime in District of Columbia', ''], ['', ''], ['2004', '4852.8'], ['2005', '4490'], ['2006', '4653.9'], ['2007', '4916.3'], ['2008', '5104.6'], ['', ''], ['Reported crime in New Hampshire', ''], ['', ''], ['2004', '2051.9'], ['2005', '1839'], ['2006', '2061.8'], ['2007', '1968.6'], ['2008', '2132.1'], ['', ''], ['Reported crime in Alabama', ''], ['', ''], ['2004', '4029.3'], ['2005', '3900'], ['2006', '3937'], ['2007', '3974.9'], ['2008', '4081.9']]\\noutput_dataset = [['', '2004', '2005', '2006', '2007', '2008'], ['District of Columbia', '4852.8', '4490', '4653.9', '4916.3', '5104.6'], ['New Hampshire', '2051.9', '1839', '2061.8', '1968.6', '2132.1'], ['Alabama', '4029.3', '3900', '3937', '3974.9', '4081.9']]\\n\\nassert transform_dataset(input_dataset) == output_dataset\\n```\"], ['crime_data_wrangler_4', \"```python\\ndef transform_dataset(input_dataset):\\n    output_dataset = []\\n    temp = []\\n    for item in input_dataset:\\n        if item[0] == '':\\n            if temp:\\n                output_dataset.append(temp)\\n                temp = []\\n        else:\\n            temp.append(item[0])\\n            temp.extend(item[1:])\\n    output_dataset.append(temp)\\n    \\n    return output_dataset\\n\\n# Example input dataset\\ninput_dataset = [['Reported crime in District of Columbia', ''], ['', ''], ['2004', '4852.8'], ['2005', '4490'], ['2006', '4653.9'], ['2007', '4916.3'], ['2008', '5104.6'], ['', ''], ['Reported crime in New Hampshire', ''], ['', ''], ['2004', '2051.9'], ['2005', '1839'], ['2006', '2061.8'], ['2007', '1968.6'], ['2008', '2132.1'], ['', ''], ['Reported crime in Alabama', ''], ['', ''], ['2004', '4029.3'], ['2005', '3900'], ['2006', '3937'], ['2007', '3974.9'], ['2008', '4081.9'], ['', ''], ['Reported crime in New Jersey', ''], ['', ''], ['2004', '2433'], ['2005', '2337'], ['2006', '2278.4'], ['2007', '2205.5'], ['2008', '2293.4']]\\n\\n# Applying the transformation function\\noutput_dataset = transform_dataset(input_dataset)\\n\\n# Print the output dataset\\nprint(output_dataset)\\n```\"], ['crime_data_wrangler_5', \"```python\\ndef transform_dataset(input_data):\\n    output_data = []\\n    temp = []\\n    for item in input_data:\\n        if item[0] == '':\\n            if temp:\\n                output_data.append(temp)\\n                temp = []\\n        else:\\n            temp.append(item[0])\\n            temp.extend(item[1:])\\n    if temp:\\n        output_data.append(temp)\\n    \\n    return output_data\\n\\n# Input dataset\\ninput_data = [['Reported crime in District of Columbia', ''], ['', ''], ['2004', '4852.8'], ['2005', '4490'], ['2006', '4653.9'], ['2007', '4916.3'], ['2008', '5104.6'], ['', ''], ['Reported crime in New Hampshire', ''], ['', ''], ['2004', '2051.9'], ['2005', '1839'], ['2006', '2061.8'], ['2007', '1968.6'], ['2008', '2132.1'], ['', ''], ['Reported crime in Alabama', ''], ['', ''], ['2004', '4029.3'], ['2005', '3900'], ['2006', '3937'], ['2007', '3974.9'], ['2008', '4081.9'], ['', ''], ['Reported crime in New Jersey', ''], ['', ''], ['2004', '2433'], ['2005', '2337'], ['2006', '2278.4'], ['2007', '2205.5'], ['2008', '2293.4'], ['', ''], ['Reported crime in New Mexico', ''], ['', ''], ['2004', '4198.4'], ['2005', '4132'], ['2006', '3947.5'], ['2007', '3846.7'], ['2008', '3817.4']]\\n\\n# Output dataset\\noutput_data = [['', '2004', '2005', '2006', '2007', '2008'], ['District of Columbia', '4852.8', '4490', '4653.9', '4916.3', '5104.6'], ['New Hampshire', '2051.9', '1839', '2061.8', '1968.6', '2132.1'], ['Alabama', '4029.3', '3900', '3937', '3974.9', '4081.9'], ['New Jersey', '2433', '2337', '2278.4', '2205.5', '2293.4'], ['New Mexico', '4198.4', '4132', '3947.5', '3846.7', '3817.4']]\\n\\n# Check if the function works correctly\\nassert transform_dataset(input_data) == output_data\\n```\"], ['potters_wheel_divide_1', \"def transform_data(input_data):\\n    output_data = input_data\\n    return output_data\\n\\n# Test the function with the provided input dataset\\ninput_data = [['Stewart, Bob']]\\noutput_data = transform_data(input_data)\\nprint(output_data)\"], ['potters_wheel_divide_2', \"def transform_dataset(input_data):\\n    max_len = max(len(row) for row in input_data)\\n    output_data = []\\n    for row in input_data:\\n        new_row = row + [''] * (max_len - len(row))\\n        output_data.append(new_row)\\n    return output_data\\n\\n# Example\\ninput_data = [['Stewart, Bob', ''], ['Anna', 'Davis']]\\noutput_data = transform_dataset(input_data)\\nprint(output_data)\"], ['potters_wheel_divide_3', \"```python\\ndef transform_dataset(input_data):\\n    max_len = max(len(row) for row in input_data)\\n    output_data = []\\n    for row in input_data:\\n        new_row = row + [''] * (max_len - len(row))\\n        output_data.append(new_row)\\n    return output_data\\n\\n# Example\\ninput_data = [['Stewart, Bob', ''], ['Anna', 'Davis'], ['Dole, Jerry', '']]\\noutput_data = transform_dataset(input_data)\\nprint(output_data)\\n```\"], ['potters_wheel_divide_4', \"def transform_dataset(input_data):\\n    output_data = []\\n    for i in range(len(input_data)):\\n        output_data.append(['', input_data[i][0], input_data[i][1]])\\n        output_data.append([input_data[i][0], input_data[i][1], ''])\\n    return output_data\\n\\n# Example input and output dataset\\ninput_dataset = [['Stewart, Bob', ''], ['Anna', 'Davis'], ['Dole, Jerry', ''], ['Joan', 'Marsh']]\\noutput_dataset = [['Stewart, Bob', '', ''], ['', 'Anna', 'Davis'], ['Dole, Jerry', '', ''], ['', 'Joan', 'Marsh']]\\n\\n# Test the function\\nprint(transform_dataset(input_dataset))\"], ['potters_wheel_divide_5', \"def transform_dataset(input_data):\\n    output_data = []\\n    for item in input_data:\\n        if len(item) == 2:\\n            output_data.append(['', item[0], item[1]])\\n        else:\\n            output_data.append(item)\\n    return output_data\\n\\n# Test the function with the provided input dataset\\ninput_dataset = [['Stewart, Bob', ''], ['Anna', 'Davis'], ['Dole, Jerry', ''], ['Joan', 'Marsh'], ['Targaryen, Aerys', '']]\\noutput_dataset = transform_dataset(input_dataset)\\nprint(output_dataset)\"], ['potters_wheel_fold_1', \"```python\\ndef transform_dataset(input_data):\\n    output_data = [['', 'Math', 'French']]\\n    for data in input_data:\\n        output_data.append([data[0]] + [x.split(':')[1] for x in data[1:]])\\n    return output_data\\n\\ninput_data = [['George', 'Math:65', 'French:42']]\\noutput_data = transform_dataset(input_data)\\nprint(output_data)\\n```\"], ['potters_wheel_fold_2', \"def transform_dataset(input_data):\\n    output_data = []\\n    \\n    # Extracting headers from the first sublist\\n    headers = [''] + [item.split(':')[0] for item in input_data[0][1:]]\\n    output_data.append(headers)\\n    \\n    # Extracting values from the remaining sublists\\n    for sublist in input_data:\\n        values = [sublist[0]] + [item.split(':')[1] for item in sublist[1:]]\\n        output_data.append(values)\\n    \\n    return output_data\\n\\n# Test the function with the provided input dataset\\ninput_dataset = [['George', 'Math:65', 'French:42'], ['Anna', 'Math:43', 'French:78']]\\noutput_dataset = transform_dataset(input_dataset)\\nprint(output_dataset)\"], ['potters_wheel_fold_3', \"def transform_dataset(input_data):\\n    output_data = [['', 'Math', 'French']]\\n    \\n    for entry in input_data:\\n        new_entry = [entry[0]]\\n        for item in entry[1:]:\\n            new_entry.append(item.split(':')[1])\\n        output_data.append(new_entry)\\n    \\n    return output_data\\n\\n# Test the function with the provided input dataset\\ninput_dataset = [['George', 'Math:65', 'French:42'], ['Anna', 'Math:43', 'French:78'], ['Bob', 'Math:96', 'French:54']]\\noutput_dataset = transform_dataset(input_dataset)\\nprint(output_dataset)\"], ['potters_wheel_fold_4', 'def transform_dataset(input_data):\\n    output_data = [[\\'\\', \\'Math\\', \\'French\\']]\\n    \\n    for row in input_data:\\n        new_row = [row[0]]\\n        for item in row[1:]:\\n            new_row.append(item.split(\":\")[1])\\n        output_data.append(new_row)\\n    \\n    return output_data\\n\\n# Test the function with the provided input dataset\\ninput_dataset = [[\\'George\\', \\'Math:65\\', \\'French:42\\'], [\\'Anna\\', \\'Math:43\\', \\'French:78\\'], [\\'Bob\\', \\'Math:96\\', \\'French:54\\'], [\\'Joan\\', \\'Math:79\\', \\'French:87\\']]\\noutput_dataset = transform_dataset(input_dataset)\\nprint(output_dataset)'], ['potters_wheel_fold_5', \"def transform_dataset(input_data):\\n    output_data = []\\n    \\n    # Extracting headers\\n    headers = ['', input_data[0][1].split(':')[0], input_data[0][2].split(':')[0]\\n    output_data.append(headers)\\n    \\n    # Transforming data\\n    for row in input_data[1:]:\\n        new_row = [row[0]]\\n        new_row.extend([value.split(':')[1] for value in row[1:]])\\n        output_data.append(new_row)\\n    \\n    return output_data\\n\\n# Test the function with the provided input dataset\\ninput_dataset = [['George', 'Math:65', 'French:42'], ['Anna', 'Math:43', 'French:78'], ['Bob', 'Math:96', 'French:54'], ['Joan', 'Math:79', 'French:87'], ['Tom', 'Math:72', 'French:51']]\\noutput_dataset = transform_dataset(input_dataset)\\nprint(output_dataset)\"], ['potters_wheel_fold_2_1', \"```python\\ndef transform_dataset(input_data):\\n    output_data = [['', 'Math', 'French', 'History']]\\n    for item in input_data:\\n        output_data.append([item[0]] + [x.split(':')[1] for x in item[1:]])\\n    return output_data\\n\\ninput_data = [['George', 'Math:65', 'French:42', 'History:98']]\\noutput_data = transform_dataset(input_data)\\nprint(output_data)\\n```\"], ['potters_wheel_fold_2_2', \"def transform_dataset(input_data):\\n    output_data = []\\n    \\n    # Extracting headers from the first list in the input dataset\\n    headers = [''] + [item.split(':')[0] for item in input_data[0][1:]]\\n    output_data.append(headers)\\n    \\n    # Extracting data for each student\\n    for student_data in input_data:\\n        student_info = [student_data[0]] + [item.split(':')[1] for item in student_data[1:]]\\n        output_data.append(student_info)\\n    \\n    return output_data\\n\\n# Test the function with the provided input dataset\\ninput_dataset = [['George', 'Math:65', 'French:42', 'History:98'], ['Anna', 'Math:43', 'French:78', 'History:32']]\\noutput_dataset = transform_dataset(input_dataset)\\nprint(output_dataset)\"], ['potters_wheel_fold_2_3', \"def transform_dataset(input_data):\\n    output_data = []\\n    \\n    # Extracting headers\\n    headers = [''] + [subject.split(':')[0] for subject in input_data[0][1:]]\\n    output_data.append(headers)\\n    \\n    # Extracting data\\n    for row in input_data:\\n        output_row = [row[0]] + [subject.split(':')[1] for subject in row[1:]]\\n        output_data.append(output_row)\\n    \\n    return output_data\\n\\n# Test the function with the provided input dataset\\ninput_dataset = [['George', 'Math:65', 'French:42', 'History:98'], ['Anna', 'Math:43', 'French:78', 'History:32'], ['Bob', 'Math:75', 'French:68', 'History:46']]\\noutput_dataset = transform_dataset(input_dataset)\\nprint(output_dataset)\"], ['potters_wheel_fold_2_4', \"def transform_dataset(input_data):\\n    output_data = []\\n    \\n    # Extract headers from the first list in the input dataset\\n    headers = [''] + [item.split(':')[0] for item in input_data[0][1:]]\\n    output_data.append(headers)\\n    \\n    # Extract data from the remaining lists in the input dataset\\n    for row in input_data[1:]:\\n        output_data.append([row[0]] + [item.split(':')[1] for item in row[1:]])\\n    \\n    return output_data\\n\\n# Example input dataset\\ninput_dataset = [['George', 'Math:65', 'French:42', 'History:98'], ['Anna', 'Math:43', 'French:78', 'History:32'], ['Bob', 'Math:75', 'French:68', 'History:46'], ['Tom', 'Math:72', 'French:51', 'History:92']]\\n\\n# Applying the transformation function\\noutput_dataset = transform_dataset(input_dataset)\\n\\n# Print the output dataset\\nprint(output_dataset)\"], ['potters_wheel_fold_2_5', \"```python\\ndef transform_dataset(input_data):\\n    output_data = []\\n    \\n    # Extract header row\\n    header = [''] + [subject.split(':')[0] for subject in input_data[0][1:]]\\n    output_data.append(header)\\n    \\n    # Extract data rows\\n    for row in input_data:\\n        output_data.append([row[0]] + [subject.split(':')[1] for subject in row[1:]])\\n    \\n    return output_data\\n\\n# Example input and output dataset\\ninput_dataset = [['George', 'Math:65', 'French:42', 'History:98'], ['Anna', 'Math:43', 'French:78', 'History:32'], ['Bob', 'Math:75', 'French:68', 'History:46'], ['Tom', 'Math:72', 'French:51', 'History:92'], ['Rob', 'Math:69', 'French:44', 'History:75']]\\noutput_dataset = [['', 'Math', 'French', 'History'], ['George', '65', '42', '98'], ['Anna', '43', '78', '32'], ['Bob', '75', '68', '46'], ['Tom', '72', '51', '92'], ['Rob', '69', '44', '75']]\\n\\n# Check if the function works correctly\\nassert transform_dataset(input_dataset) == output_dataset\\n```\"], ['potters_wheel_merge_split_1', \"def transform_names(input_data):\\n    output_data = []\\n    for name in input_data:\\n        split_name = name[0].split(',')\\n        output_data.append([split_name[1], split_name[0]])\\n    return output_data\\n\\n# Test the function with the provided input dataset\\ninput_data = [['Stewart,Bob']]\\noutput_data = transform_names(input_data)\\nprint(output_data)\"], ['potters_wheel_merge_split_2', \"```python\\ndef transform_data(input_data):\\n    output_data = []\\n    for row in input_data:\\n        new_row = [element.strip() for element in row if element.strip() != '']\\n        if len(new_row) == 2:\\n            output_data.append([new_row[2], new_row[0]])\\n        else:\\n            output_data.append(new_row)\\n    return output_data\\n\\n# Test the function with the provided input dataset\\ninput_data = [['', '', 'Stewart,Bob'], ['Anna', 'Davis', '']]\\noutput_data = transform_data(input_data)\\nprint(output_data)\\n```\"], ['potters_wheel_merge_split_3', \"def transform_names(input_data):\\n    output_data = []\\n    for entry in input_data:\\n        new_entry = [name.strip() for name in entry if name.strip() != '']\\n        if len(new_entry) == 2:\\n            output_data.append([new_entry[2], new_entry[1]])\\n        else:\\n            output_data.append(new_entry)\\n    return output_data\\n\\n# Test the function with the provided input dataset\\ninput_dataset = [['', '', 'Stewart,Bob'], ['', '', 'Dole,Jerry'], ['Anna', 'Davis', '']]\\noutput_dataset = transform_names(input_dataset)\\nprint(output_dataset)\"], ['potters_wheel_merge_split_4', \"def transform_names(input_data):\\n    output_data = []\\n    for entry in input_data:\\n        first_name = entry[0].split(',')[1] if entry[0] else ''\\n        last_name = entry[2].split(',')[0] if entry[2] else ''\\n        output_data.append([first_name, last_name])\\n    return output_data\\n\\n# Test the function with the provided input dataset\\ninput_data = [['', '', 'Stewart,Bob'], ['Anna', 'Davis', ''], ['', '', 'Dole,Jerry'], ['Joan', 'Marsh', '']]\\noutput_data = transform_names(input_data)\\nprint(output_data)\"], ['potters_wheel_merge_split_5', \"```python\\ndef transform_names(input_data):\\n    output_data = []\\n    for row in input_data:\\n        first_name = row[2].split(',')[0].strip()\\n        last_name = row[2].split(',')[1].strip()\\n        output_data.append([first_name, last_name])\\n    return output_data\\n\\n# Example input dataset\\ninput_data = [['', '', 'Stewart,Bob'], ['Anna', 'Davis', ''], ['', '', 'Dole,Jerry'], ['Joan', 'Marsh', ''], ['', '', 'Targaryen,Aerys']] \\n\\n# Applying the transformation function\\noutput_data = transform_names(input_data)\\n\\n# Print the output dataset\\nprint(output_data)\\n```\"], ['potters_wheel_split_fold_1', \"```python\\ndef transform_data(input_data):\\n    output_data = []\\n    for item in input_data:\\n        name = item[0]\\n        names = item[1].split(', ')\\n        for n in names:\\n            output_data.append([name, n])\\n    return output_data\\n\\n# Test the function with the provided input dataset\\ninput_data = [['Latimer', 'George, Anna']]\\noutput_data = transform_data(input_data)\\nprint(output_data)\\n```\"], ['potters_wheel_split_fold_2', \"def transform_data(input_data):\\n    output_data = []\\n    for entry in input_data:\\n        last_name = entry[0]\\n        first_names = entry[1].split(', ')\\n        for name in first_names:\\n            output_data.append([last_name, name])\\n    return output_data\\n\\n# Test the function with the provided input dataset\\ninput_data = [['Latimer', 'George, Anna'], ['Smith', 'Joan']]\\noutput_data = transform_data(input_data)\\nprint(output_data)\"], ['potters_wheel_split_fold_3', \"def transform_names(input_data):\\n    output_data = []\\n    for names in input_data:\\n        last_name = names[0]\\n        first_names = names[1].split(', ')\\n        for first_name in first_names:\\n            output_data.append([last_name, first_name])\\n    return output_data\\n\\n# Test the function with the provided input dataset\\ninput_dataset = [['Latimer', 'George, Anna'], ['Smith', 'Joan'], ['Bush', 'John, Bob']]\\nprint(transform_names(input_dataset))\"], ['potters_wheel_split_fold_4', \"def transform_names(input_data):\\n    output_data = []\\n    for names in input_data:\\n        last_name = names[0]\\n        first_names = names[1].split(', ')\\n        for first_name in first_names:\\n            output_data.append([last_name, first_name])\\n    return output_data\\n\\n# Test the function with the provided input dataset\\ninput_data = [['Latimer', 'George, Anna'], ['Smith', 'Joan'], ['Bush', 'John, Bob'], ['Stark', 'Eddard, Catylen']]\\noutput_data = transform_names(input_data)\\nprint(output_data)\"], ['potters_wheel_split_fold_5', \"```python\\ndef transform_data(input_data):\\n    output_data = []\\n    for item in input_data:\\n        last_name = item[0]\\n        first_names = item[1].split(', ')\\n        for name in first_names:\\n            output_data.append([last_name, name])\\n    return output_data\\n\\ninput_data = [['Latimer', 'George, Anna'], ['Smith', 'Joan'], ['Bush', 'John, Bob'], ['Stark', 'Eddard, Catylen'], ['Lanister', 'Jaime, Cersei']]\\noutput_data = transform_data(input_data)\\nprint(output_data)\\n```\"], ['potters_wheel_unfold_1', \"def transform_dataset(input_data):\\n    output_data = [['', input_data[0][1], input_data[1][1]], [input_data[0][0], input_data[0][2], input_data[1][2]]]\\n    return output_data\\n\\n# Test the function with the provided input dataset\\ninput_dataset = [['George', 'Math', '65'], ['George', 'French', '42']]\\noutput_dataset = transform_dataset(input_dataset)\\nprint(output_dataset)\"], ['potters_wheel_unfold_2', \"def transform_dataset(input_data):\\n    output_data = []\\n    \\n    # Get unique subjects\\n    subjects = set()\\n    for entry in input_data:\\n        subjects.add(entry[1])\\n    \\n    # Create header row\\n    header = ['']\\n    header.extend(list(subjects))\\n    output_data.append(header)\\n    \\n    # Create data rows\\n    students = set()\\n    for entry in input_data:\\n        students.add(entry[0])\\n    \\n    for student in students:\\n        row = [student]\\n        for subject in subjects:\\n            grade = ''\\n            for entry in input_data:\\n                if entry[0] == student and entry[1] == subject:\\n                    grade = entry[2]\\n            row.append(grade)\\n        output_data.append(row)\\n    \\n    return output_data\\n\\n# Test the function with the provided input dataset\\ninput_data = [['George', 'Math', '65'], ['George', 'French', '42'], ['Bob', 'English', '96'], ['Bob', 'French', '54']]\\noutput_data = transform_dataset(input_data)\\nprint(output_data)\"], ['potters_wheel_unfold_3', \"```python\\ndef transform_dataset(input_data):\\n    output_data = []\\n    \\n    # Get unique subjects\\n    subjects = set([x[1] for x in input_data])\\n    subjects = [''] + sorted(list(subjects))\\n    \\n    output_data.append(subjects)\\n    \\n    # Create empty dictionary to store scores\\n    scores_dict = {}\\n    for name, subject, score in input_data:\\n        if name not in scores_dict:\\n            scores_dict[name] = {}\\n        scores_dict[name][subject] = score\\n    \\n    # Fill in the scores in the output dataset\\n    for name in scores_dict:\\n        row = [name]\\n        for subject in subjects[1:]:\\n            if subject in scores_dict[name]:\\n                row.append(scores_dict[name][subject])\\n            else:\\n                row.append('')\\n        output_data.append(row)\\n    \\n    return output_data\\n\\n# Input dataset\\ninput_data = [['George', 'Math', '65'], ['George', 'French', '42'], ['Bob', 'English', '96'], ['Bob', 'French', '54'], ['Joan', 'English', '79']]\\n\\n# Output dataset\\noutput_data = [['', 'Math', 'French', 'English'], ['George', '65', '42', ''], ['Bob', '', '54', '96'], ['Joan', '', '', '79']]\\n\\n# Check if the function works correctly\\nassert transform_dataset(input_data) == output_data\\n```\"], ['potters_wheel_unfold_4', \"def transform_dataset(input_data):\\n    output_data = [['', 'Math', 'French', 'English']]\\n    \\n    students = set()\\n    subjects = set()\\n    \\n    for entry in input_data:\\n        students.add(entry[0])\\n        subjects.add(entry[1])\\n    \\n    students = sorted(list(students))\\n    subjects = sorted(list(subjects))\\n    \\n    for student in students:\\n        row = [student]\\n        for subject in subjects:\\n            grade = ''\\n            for entry in input_data:\\n                if entry[0] == student and entry[1] == subject:\\n                    grade = entry[2]\\n            row.append(grade)\\n        output_data.append(row)\\n    \\n    return output_data\\n\\n# Test the function with the provided input dataset\\ninput_data = [['George', 'Math', '65'], ['George', 'French', '42'], ['Bob', 'English', '96'], ['Bob', 'French', '54'], ['Joan', 'English', '79'], ['Anna', 'Math', '43'], ['Anna', 'French', '78']]\\noutput_data = transform_dataset(input_data)\\nprint(output_data)\"], ['potters_wheel_unfold_5', \"def transform_dataset(input_data):\\n    output_data = [['', 'Math', 'French', 'English']]\\n    \\n    students = set()\\n    subjects = set()\\n    \\n    for entry in input_data:\\n        students.add(entry[0])\\n        subjects.add(entry[1])\\n    \\n    students = sorted(list(students))\\n    subjects = sorted(list(subjects))\\n    \\n    for student in students:\\n        row = [student]\\n        for subject in subjects:\\n            grade = ''\\n            for entry in input_data:\\n                if entry[0] == student and entry[1] == subject:\\n                    grade = entry[2]\\n            row.append(grade)\\n        output_data.append(row)\\n    \\n    return output_data\\n\\n# Example input and output dataset\\ninput_data = [['George', 'Math', '65'], ['George', 'French', '42'], ['Bob', 'English', '96'], ['Bob', 'French', '54'], ['Joan', 'English', '79'], ['Anna', 'Math', '43'], ['Anna', 'French', '78'], ['Tom', 'Math', '90'], ['Tom', 'French', '85']]\\noutput_data = [['', 'Math', 'French', 'English'], ['George', '65', '42', ''], ['Bob', '', '54', '96'], ['Joan', '', '', '79'], ['Anna', '43', '78', ''], ['Tom', '90', '85', '']]\\n\\n# Check if the function works correctly\\nassert transform_dataset(input_data) == output_data\"]]\n"
     ]
    }
   ],
   "source": [
    "print(GPT_Model.ans)"
   ]
  },
  {
   "cell_type": "code",
   "execution_count": 7,
   "metadata": {},
   "outputs": [],
   "source": [
    "result = GPT_Model.ans\n",
    "output= []\n",
    "for x in result:\n",
    "    o = x[1].split('\\n\\ninput_data')\n",
    "    d = {'data': x[0],'output': o[0]}\n",
    "\n",
    "    output.append(d)\n",
    "df = pd.DataFrame(output)\n",
    "df.to_csv('output_chat_gpt_3_5.csv', index=False)"
   ]
  },
  {
   "cell_type": "code",
   "execution_count": 3,
   "metadata": {},
   "outputs": [],
   "source": [
    "GPT_Model_4 = GPT_Model('sk-GardnCuVxSwbqswZ1a55F262A4D74431Af05AbD6D5C72dA2',4.0)"
   ]
  },
  {
   "cell_type": "code",
   "execution_count": 4,
   "metadata": {},
   "outputs": [
    {
     "name": "stdout",
     "output_type": "stream",
     "text": [
      "craigslist_data_wrangler 1 : 162\n",
      "craigslist_data_wrangler 2 : 323\n",
      "craigslist_data_wrangler 3 : 236\n",
      "craigslist_data_wrangler 4 : 273\n",
      "craigslist_data_wrangler 5 : 304\n",
      "crime_data_wrangler 1 : 304\n",
      "crime_data_wrangler 2 : 628\n",
      "crime_data_wrangler 3 : 784\n",
      "crime_data_wrangler 4 : 488\n",
      "crime_data_wrangler 5 : 669\n",
      "potters_wheel_divide 1 : 111\n",
      "potters_wheel_divide 2 : 172\n",
      "potters_wheel_divide 3 : 147\n",
      "potters_wheel_divide 4 : 180\n",
      "potters_wheel_divide 5 : 219\n",
      "potters_wheel_fold 1 : 225\n",
      "potters_wheel_fold 2 : 200\n",
      "potters_wheel_fold 3 : 220\n",
      "potters_wheel_fold 4 : 240\n",
      "potters_wheel_fold 5 : 246\n",
      "potters_wheel_fold_2 1 : 189\n",
      "potters_wheel_fold_2 2 : 210\n",
      "potters_wheel_fold_2 3 : 258\n",
      "potters_wheel_fold_2 4 : 285\n",
      "potters_wheel_fold_2 5 : 301\n",
      "potters_wheel_merge_split 1 : 119\n",
      "potters_wheel_merge_split 2 : 181\n",
      "potters_wheel_merge_split 3 : 273\n",
      "potters_wheel_merge_split 4 : 200\n",
      "potters_wheel_merge_split 5 : 208\n",
      "potters_wheel_split_fold 1 : 157\n",
      "potters_wheel_split_fold 2 : 130\n",
      "potters_wheel_split_fold 3 : 190\n",
      "potters_wheel_split_fold 4 : 209\n",
      "potters_wheel_split_fold 5 : 248\n",
      "potters_wheel_unfold 1 : 231\n",
      "potters_wheel_unfold 2 : 345\n",
      "potters_wheel_unfold 3 : 187\n",
      "potters_wheel_unfold 4 : 319\n",
      "potters_wheel_unfold 5 : 541\n",
      "potters_wheel_unfold2 1 : 213\n",
      "potters_wheel_unfold2 2 : 229\n",
      "potters_wheel_unfold2 3 : 329\n",
      "potters_wheel_unfold2 4 : 327\n",
      "potters_wheel_unfold2 5 : 326\n",
      "proactive_wrangling_fold 1 : 186\n",
      "proactive_wrangling_fold 2 : 205\n",
      "proactive_wrangling_fold 3 : 186\n",
      "proactive_wrangling_fold 4 : 289\n",
      "proactive_wrangling_fold 5 : 309\n",
      "proactive_wrangling_complex 1 : 322\n",
      "proactive_wrangling_complex 2 : 323\n",
      "proactive_wrangling_complex 3 : 387\n",
      "proactive_wrangling_complex 4 : 486\n",
      "proactive_wrangling_complex 5 : 420\n",
      "reshape_table_structure_data_wrangler 1 : 248\n",
      "reshape_table_structure_data_wrangler 2 : 387\n",
      "reshape_table_structure_data_wrangler 3 : 480\n",
      "reshape_table_structure_data_wrangler 4 : 559\n",
      "reshape_table_structure_data_wrangler 5 : 672\n"
     ]
    }
   ],
   "source": [
    "result4 = GPT_Model_4.gpt_output(template_c)\n",
    "# print(result)\n",
    "output4= []\n",
    "for x in result4:\n",
    "    o = x[1].split('\\n\\ninput_data')\n",
    "    d = {'data': x[0],'output': o[0]}\n",
    "\n",
    "    output4.append(d)\n",
    "df4 = pd.DataFrame(output4)\n",
    "df4.to_csv('output_chat_gpt_4.csv', index=False)"
   ]
  },
  {
   "cell_type": "code",
   "execution_count": null,
   "metadata": {},
   "outputs": [],
   "source": []
  }
 ],
 "metadata": {
  "kernelspec": {
   "display_name": "Python 3",
   "language": "python",
   "name": "python3"
  },
  "language_info": {
   "codemirror_mode": {
    "name": "ipython",
    "version": 3
   },
   "file_extension": ".py",
   "mimetype": "text/x-python",
   "name": "python",
   "nbconvert_exporter": "python",
   "pygments_lexer": "ipython3",
   "version": "3.11.6"
  }
 },
 "nbformat": 4,
 "nbformat_minor": 2
}

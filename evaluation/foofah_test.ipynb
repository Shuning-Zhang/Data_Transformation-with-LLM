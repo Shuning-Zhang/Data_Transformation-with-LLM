{
 "cells": [
  {
   "cell_type": "code",
   "execution_count": 1,
   "metadata": {},
   "outputs": [],
   "source": [
    "import sys\n",
    "sys.path.append('..')\n",
    "from data_transform_csv import read_in_data, read_output_data"
   ]
  },
  {
   "cell_type": "code",
   "execution_count": 2,
   "metadata": {},
   "outputs": [],
   "source": [
    "def calculate_acc(lower_bound = 2, upper_bound = 0):\n",
    "        # Read in data\n",
    "    acc = []\n",
    "    for j in range(lower_bound,upper_bound+1):\n",
    "        for i in range(1,6):\n",
    "            path = 'exp0_'+str(j) + '_'+ str(i)+ '.txt'\n",
    "            input_data, test_data = read_in_data('../data/foofah/' + path)\n",
    "            output_data = read_output_data('../output/foofah/output_data_0_'+str(j) + '_'+ str(i)+ '.json')\n",
    "\n",
    "            # Calculate accuracy\n",
    "            if output_data[0]:\n",
    "                acc_temp = 0\n",
    "                # print(j,i)\n",
    "                for k in range(min(len(output_data[0]),len(test_data[1]))):\n",
    "                    if output_data[0][k] == test_data[1][k]:\n",
    "                        acc_temp += 1\n",
    "                acc.append(acc_temp/max(len(output_data[0]),len(test_data[1])))\n",
    "            else:\n",
    "                acc.append(0)\n",
    "    return acc\n",
    "                \n",
    "acc2 = calculate_acc(12)"
   ]
  },
  {
   "cell_type": "code",
   "execution_count": 3,
   "metadata": {},
   "outputs": [],
   "source": [
    "acc2 = calculate_acc(10,12)\n",
    "acc1 = calculate_acc(2,8)"
   ]
  },
  {
   "cell_type": "code",
   "execution_count": 4,
   "metadata": {},
   "outputs": [
    {
     "data": {
      "text/plain": [
       "0.8181818181818182"
      ]
     },
     "execution_count": 4,
     "metadata": {},
     "output_type": "execute_result"
    }
   ],
   "source": [
    "(sum(acc1)+sum(acc2)) /(len(acc1)+len(acc2)+5)"
   ]
  }
 ],
 "metadata": {
  "kernelspec": {
   "display_name": "Python 3",
   "language": "python",
   "name": "python3"
  },
  "language_info": {
   "codemirror_mode": {
    "name": "ipython",
    "version": 3
   },
   "file_extension": ".py",
   "mimetype": "text/x-python",
   "name": "python",
   "nbconvert_exporter": "python",
   "pygments_lexer": "ipython3",
   "version": "3.11.5"
  }
 },
 "nbformat": 4,
 "nbformat_minor": 2
}

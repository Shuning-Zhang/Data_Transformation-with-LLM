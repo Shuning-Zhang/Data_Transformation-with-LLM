{
 "cells": [
  {
   "cell_type": "code",
   "execution_count": 2,
   "metadata": {},
   "outputs": [],
   "source": [
    "import sys\n",
    "sys.path.append('..')\n",
    "from data_access import read_in_data, read_output_data"
   ]
  },
  {
   "cell_type": "code",
   "execution_count": 54,
   "metadata": {},
   "outputs": [],
   "source": [
    "def calculate_acc(lower_bound = 2, upper_bound = 0):\n",
    "        # Read in data\n",
    "    acc = []\n",
    "    for j in range(lower_bound,upper_bound):\n",
    "        for i in range(1,6):\n",
    "            print(i,j)\n",
    "            path = 'exp0_'+str(j) + '_'+ str(i)+'_new'+ '.txt'\n",
    "            input_data, test_data = read_in_data('../data/foofah/' + path)\n",
    "            output_data = read_output_data('../output/foofah/output_data_0_'+str(j) + '_'+ str(i)+'_new'+ '.json')\n",
    "\n",
    "            # Calculate accuracy\n",
    "            if output_data[0]:\n",
    "                acc_temp = 0\n",
    "                # print(j,i)\n",
    "                for k in range(min(len(output_data[0]),len(test_data[1]))):\n",
    "                    if output_data[0][k] == test_data[1][k]:\n",
    "                        acc_temp += 1\n",
    "                acc.append(acc_temp/max(len(output_data[0]),len(test_data[1])))\n",
    "            else:\n",
    "                acc.append(0)\n",
    "    return acc\n"
   ]
  },
  {
   "cell_type": "code",
   "execution_count": 57,
   "metadata": {},
   "outputs": [
    {
     "name": "stdout",
     "output_type": "stream",
     "text": [
      "1 3\n",
      "2 3\n",
      "3 3\n",
      "4 3\n",
      "5 3\n"
     ]
    }
   ],
   "source": [
    "\n",
    "acc1 = calculate_acc(3,4)"
   ]
  },
  {
   "cell_type": "code",
   "execution_count": 58,
   "metadata": {},
   "outputs": [
    {
     "data": {
      "text/plain": [
       "0.0615909090909091"
      ]
     },
     "execution_count": 58,
     "metadata": {},
     "output_type": "execute_result"
    }
   ],
   "source": [
    "(sum(acc1)+sum(acc2)) /(len(acc1)+len(acc2)+5)"
   ]
  },
  {
   "cell_type": "code",
   "execution_count": null,
   "metadata": {},
   "outputs": [],
   "source": []
  },
  {
   "cell_type": "code",
   "execution_count": 44,
   "metadata": {},
   "outputs": [
    {
     "name": "stdout",
     "output_type": "stream",
     "text": [
      "[['50999', ''], ['Inc Actvty -  Year end', ''], ['2/16/2009', '64023'], ['3/2/2009', '64519'], ['3/2/2009', '64519'], ['3/16/2009', '164351'], ['', '39888'], ['71000', ''], ['Contribution Pending', ''], ['3/31/2009', '65354'], ['', '39903'], ['72000', ''], [' Contribution Holdings', ''], ['3/31/2009', '65354'], ['', ''], ['N6D07', ''], ['1st Level-Com', ''], ['2/19/2009', '64066'], ['3/19/2009', '64916'], ['', ''], ['N6E06', ''], [' 1st Level-Other Ps', ''], ['3/30/2009', '65320']]\n"
     ]
    }
   ],
   "source": [
    "path = '../data/foofah/exp0_'+ str(3) + '_'+ str(1) + '_new' + '.txt'\n",
    "input_data, test_data = read_in_data(path)\n",
    "print(test_data[0])"
   ]
  },
  {
   "cell_type": "code",
   "execution_count": 45,
   "metadata": {},
   "outputs": [
    {
     "name": "stdout",
     "output_type": "stream",
     "text": [
      "['50999', 'Inc Actvty -  Year end', '2/16/2009', '64023']\n",
      "['50999', 'Inc Actvty -  Year end', '3/2/2009', '64519']\n",
      "['50999', 'Inc Actvty -  Year end', '3/2/2009', '64519']\n",
      "['50999', 'Inc Actvty -  Year end', '3/16/2009', '164351']\n",
      "['71000', 'Contribution Pending', '3/31/2009', '65354']\n",
      "['72000', ' Contribution Holdings', '3/31/2009', '65354']\n",
      "['1st Level-Com', '2/19/2009', '64066']\n",
      "['1st Level-Com', '3/19/2009', '64916']\n",
      "['N6E06', ' 1st Level-Other Ps', '3/30/2009', '65320']\n"
     ]
    }
   ],
   "source": [
    "first_half = []\n",
    "output = []\n",
    "for j in test_data[0]:\n",
    "    if j[1] == '':            \n",
    "        if len(first_half) == 2:\n",
    "            first_half = []\n",
    "        first_half.append(j[0])\n",
    "    elif j[0] != '' and j[1] != '':\n",
    "        print(first_half + j)\n",
    "        output.append(first_half + j)\n",
    "\n"
   ]
  },
  {
   "cell_type": "code",
   "execution_count": 47,
   "metadata": {},
   "outputs": [],
   "source": [
    "output[7].insert(0, 'N6D07')"
   ]
  },
  {
   "cell_type": "code",
   "execution_count": 48,
   "metadata": {},
   "outputs": [
    {
     "data": {
      "text/plain": [
       "[['50999', 'Inc Actvty -  Year end', '2/16/2009', '64023'],\n",
       " ['50999', 'Inc Actvty -  Year end', '3/2/2009', '64519'],\n",
       " ['50999', 'Inc Actvty -  Year end', '3/2/2009', '64519'],\n",
       " ['50999', 'Inc Actvty -  Year end', '3/16/2009', '164351'],\n",
       " ['71000', 'Contribution Pending', '3/31/2009', '65354'],\n",
       " ['72000', ' Contribution Holdings', '3/31/2009', '65354'],\n",
       " ['N6D07', '1st Level-Com', '2/19/2009', '64066'],\n",
       " ['N6D07', '1st Level-Com', '3/19/2009', '64916'],\n",
       " ['N6E06', ' 1st Level-Other Ps', '3/30/2009', '65320']]"
      ]
     },
     "execution_count": 48,
     "metadata": {},
     "output_type": "execute_result"
    }
   ],
   "source": [
    "output"
   ]
  },
  {
   "cell_type": "code",
   "execution_count": null,
   "metadata": {},
   "outputs": [],
   "source": []
  }
 ],
 "metadata": {
  "kernelspec": {
   "display_name": "Python 3",
   "language": "python",
   "name": "python3"
  },
  "language_info": {
   "codemirror_mode": {
    "name": "ipython",
    "version": 3
   },
   "file_extension": ".py",
   "mimetype": "text/x-python",
   "name": "python",
   "nbconvert_exporter": "python",
   "pygments_lexer": "ipython3",
   "version": "3.11.5"
  }
 },
 "nbformat": 4,
 "nbformat_minor": 2
}

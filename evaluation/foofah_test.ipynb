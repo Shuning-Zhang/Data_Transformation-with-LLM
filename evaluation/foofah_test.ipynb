{
 "cells": [
  {
   "cell_type": "code",
   "execution_count": 1,
   "metadata": {},
   "outputs": [],
   "source": [
    "import sys\n",
    "sys.path.append('..')\n",
    "from data_access import read_in_data, read_output_data"
   ]
  },
  {
   "cell_type": "code",
   "execution_count": 54,
   "metadata": {},
   "outputs": [],
   "source": [
    "def calculate_acc(lower_bound = 2, upper_bound = 0):\n",
    "        # Read in data\n",
    "    acc = []\n",
    "    for j in range(lower_bound,upper_bound):\n",
    "        for i in range(1,6):\n",
    "            print(i,j)\n",
    "            path = 'exp0_'+str(j) + '_'+ str(i)+'_new'+ '.txt'\n",
    "            input_data, test_data = read_in_data('../data/foofah/' + path)\n",
    "            output_data = read_output_data('../output/foofah/output_data_0_'+str(j) + '_'+ str(i)+'_new'+ '.json')\n",
    "\n",
    "            # Calculate accuracy\n",
    "            if output_data[0]:\n",
    "                acc_temp = 0\n",
    "                # print(j,i)\n",
    "                for k in range(min(len(output_data[0]),len(test_data[1]))):\n",
    "                    if output_data[0][k] == test_data[1][k]:\n",
    "                        acc_temp += 1\n",
    "                acc.append(acc_temp/max(len(output_data[0]),len(test_data[1])))\n",
    "            else:\n",
    "                acc.append(0)\n",
    "    return acc\n"
   ]
  },
  {
   "cell_type": "code",
   "execution_count": 57,
   "metadata": {},
   "outputs": [
    {
     "name": "stdout",
     "output_type": "stream",
     "text": [
      "1 3\n",
      "2 3\n",
      "3 3\n",
      "4 3\n",
      "5 3\n"
     ]
    }
   ],
   "source": [
    "\n",
    "acc1 = calculate_acc(3,4)"
   ]
  },
  {
   "cell_type": "code",
   "execution_count": 58,
   "metadata": {},
   "outputs": [
    {
     "data": {
      "text/plain": [
       "0.0615909090909091"
      ]
     },
     "execution_count": 58,
     "metadata": {},
     "output_type": "execute_result"
    }
   ],
   "source": [
    "(sum(acc1)+sum(acc2)) /(len(acc1)+len(acc2)+5)"
   ]
  },
  {
   "cell_type": "code",
   "execution_count": null,
   "metadata": {},
   "outputs": [],
   "source": []
  },
  {
   "cell_type": "code",
   "execution_count": 44,
   "metadata": {},
   "outputs": [
    {
     "name": "stdout",
     "output_type": "stream",
     "text": [
      "[['50999', ''], ['Inc Actvty -  Year end', ''], ['2/16/2009', '64023'], ['3/2/2009', '64519'], ['3/2/2009', '64519'], ['3/16/2009', '164351'], ['', '39888'], ['71000', ''], ['Contribution Pending', ''], ['3/31/2009', '65354'], ['', '39903'], ['72000', ''], [' Contribution Holdings', ''], ['3/31/2009', '65354'], ['', ''], ['N6D07', ''], ['1st Level-Com', ''], ['2/19/2009', '64066'], ['3/19/2009', '64916'], ['', ''], ['N6E06', ''], [' 1st Level-Other Ps', ''], ['3/30/2009', '65320']]\n"
     ]
    }
   ],
   "source": [
    "path = '../data/foofah/exp0_'+ str(3) + '_'+ str(1) + '_new' + '.txt'\n",
    "input_data, test_data = read_in_data(path)\n",
    "print(test_data[0])"
   ]
  },
  {
   "cell_type": "code",
   "execution_count": 45,
   "metadata": {},
   "outputs": [
    {
     "name": "stdout",
     "output_type": "stream",
     "text": [
      "['50999', 'Inc Actvty -  Year end', '2/16/2009', '64023']\n",
      "['50999', 'Inc Actvty -  Year end', '3/2/2009', '64519']\n",
      "['50999', 'Inc Actvty -  Year end', '3/2/2009', '64519']\n",
      "['50999', 'Inc Actvty -  Year end', '3/16/2009', '164351']\n",
      "['71000', 'Contribution Pending', '3/31/2009', '65354']\n",
      "['72000', ' Contribution Holdings', '3/31/2009', '65354']\n",
      "['1st Level-Com', '2/19/2009', '64066']\n",
      "['1st Level-Com', '3/19/2009', '64916']\n",
      "['N6E06', ' 1st Level-Other Ps', '3/30/2009', '65320']\n"
     ]
    }
   ],
   "source": [
    "first_half = []\n",
    "output = []\n",
    "for j in test_data[0]:\n",
    "    if j[1] == '':            \n",
    "        if len(first_half) == 2:\n",
    "            first_half = []\n",
    "        first_half.append(j[0])\n",
    "    elif j[0] != '' and j[1] != '':\n",
    "        print(first_half + j)\n",
    "        output.append(first_half + j)\n",
    "\n"
   ]
  },
  {
   "cell_type": "markdown",
   "metadata": {},
   "source": [
    "### Foofah on Foofah"
   ]
  },
  {
   "cell_type": "code",
   "execution_count": 44,
   "metadata": {},
   "outputs": [],
   "source": [
    "import os\n",
    "import json\n",
    "\n",
    "# Specify the folder path\n",
    "output_folder_path = '../output/foofah/foofah'\n",
    "acc = []\n",
    "count = 0\n",
    "\n",
    "# Iterate over all files in the folder\n",
    "for filename in os.listdir(output_folder_path):\n",
    "    count += 1\n",
    "    # Construct the full file path\n",
    "    output_full_path = os.path.join(output_folder_path, filename)\n",
    "    answer_path = \"../data/foofah/foofah/exp0\"+filename[12:]\n",
    "\n",
    "    input_data, test_data = read_in_data(answer_path)\n",
    "    #output_data = read_output_data('../output/foofah/output_data_0_'+str(j) + '_'+ str(i)+'_new'+ '.json')\n",
    "    with open(output_full_path, 'rb') as f:\n",
    "        output_data = json.load(f)\n",
    "\n",
    "        # Calculate accuracy\n",
    "        if output_data:\n",
    "            acc_temp = 0\n",
    "                # print(j,i)\n",
    "            for k in range(min(len(output_data),len(test_data[1]))):\n",
    "                for j in range(min(len(output_data[k]),len(test_data[1][k]))):\n",
    "                    if output_data[k][j] == test_data[1][k][j]:\n",
    "                        acc_temp += 1\n",
    "            acc.append(acc_temp/max(len(output_data[k]),len(test_data[1][k])))\n",
    "        else:\n",
    "            acc.append(0)\n",
    "        "
   ]
  },
  {
   "cell_type": "code",
   "execution_count": 48,
   "metadata": {},
   "outputs": [
    {
     "data": {
      "text/plain": [
       "[['Andrew', 'Qual 1', '01.02.2003'],\n",
       " ['Andrew', 'Qual 3', '06.04.2007'],\n",
       " ['Carl', 'Qual 1', ''],\n",
       " ['Carl', 'Qual 3', '09.12.2009'],\n",
       " ['Bob', 'Qual 1', '02.06.2002'],\n",
       " ['Bob', 'Qual 3', '11.08.2011'],\n",
       " ['Tom', 'Qual 1', '05.12.2003'],\n",
       " ['Tom', 'Qual 3', '17.01.2013'],\n",
       " ['Jobs', 'Qual 1', '21.03.2005'],\n",
       " ['Jobs', 'Qual 3', '06.03.2015']]"
      ]
     },
     "execution_count": 48,
     "metadata": {},
     "output_type": "execute_result"
    }
   ],
   "source": [
    "output_data"
   ]
  },
  {
   "cell_type": "code",
   "execution_count": 50,
   "metadata": {},
   "outputs": [
    {
     "data": {
      "text/plain": [
       "[['Andrew', 'Qual 1', '01.02.2003'],\n",
       " ['Andrew', 'Qual 2', '27.06.2008'],\n",
       " ['Andrew', 'Qual 3', '06.04.2007'],\n",
       " ['Carl', 'Qual 2', '18.04.2003'],\n",
       " ['Carl', 'Qual 3', '09.12.2009'],\n",
       " ['Bob', 'Qual 1', '02.06.2002'],\n",
       " ['Bob', 'Qual 2', '07.07.2010'],\n",
       " ['Bob', 'Qual 3', '11.08.2011'],\n",
       " ['Tom', 'Qual 1', '05.12.2003'],\n",
       " ['Tom', 'Qual 2', '08.02.2012'],\n",
       " ['Tom', 'Qual 3', '17.01.2013'],\n",
       " ['Jobs', 'Qual 1', '21.03.2005'],\n",
       " ['Jobs', 'Qual 2', '08.10.2017'],\n",
       " ['Jobs', 'Qual 3', '06.03.2015']]"
      ]
     },
     "execution_count": 50,
     "metadata": {},
     "output_type": "execute_result"
    }
   ],
   "source": [
    "test_data[1]"
   ]
  },
  {
   "cell_type": "code",
   "execution_count": 37,
   "metadata": {},
   "outputs": [],
   "source": [
    "output_folder_path = '../data/foofah/foofah'\n",
    "count_train = 0\n",
    "\n",
    "# Iterate over all files in the folder\n",
    "for filename in os.listdir(output_folder_path):\n",
    "    count_train += 1"
   ]
  },
  {
   "cell_type": "code",
   "execution_count": 38,
   "metadata": {},
   "outputs": [
    {
     "data": {
      "text/plain": [
       "256"
      ]
     },
     "execution_count": 38,
     "metadata": {},
     "output_type": "execute_result"
    }
   ],
   "source": [
    "count_train"
   ]
  },
  {
   "cell_type": "code",
   "execution_count": 39,
   "metadata": {},
   "outputs": [
    {
     "data": {
      "text/plain": [
       "224"
      ]
     },
     "execution_count": 39,
     "metadata": {},
     "output_type": "execute_result"
    }
   ],
   "source": [
    "count "
   ]
  },
  {
   "cell_type": "code",
   "execution_count": 45,
   "metadata": {},
   "outputs": [
    {
     "data": {
      "text/plain": [
       "[3.0,\n",
       " 1.0,\n",
       " 0,\n",
       " 6.0,\n",
       " 4.0,\n",
       " 1.0,\n",
       " 0.2,\n",
       " 1.0,\n",
       " 3.0,\n",
       " 1.0,\n",
       " 4.0,\n",
       " 5.0,\n",
       " 5.0,\n",
       " 3.0,\n",
       " 0.2,\n",
       " 4.0,\n",
       " 4.0,\n",
       " 5.0,\n",
       " 3.0,\n",
       " 1.0,\n",
       " 3.0,\n",
       " 1.0,\n",
       " 1.0,\n",
       " 3.0,\n",
       " 1.0,\n",
       " 3.0,\n",
       " 0.2,\n",
       " 4.0,\n",
       " 3.0,\n",
       " 3.0,\n",
       " 4.0,\n",
       " 6.0,\n",
       " 0.2,\n",
       " 0,\n",
       " 6.0,\n",
       " 3.0,\n",
       " 18.0,\n",
       " 3.0,\n",
       " 3.0,\n",
       " 15.0,\n",
       " 3.0,\n",
       " 8.0,\n",
       " 0,\n",
       " 0.2,\n",
       " 9.0,\n",
       " 26.0,\n",
       " 3.0,\n",
       " 4.0,\n",
       " 132.0,\n",
       " 0,\n",
       " 4.0,\n",
       " 21.0,\n",
       " 4.0,\n",
       " 4.0,\n",
       " 10.0,\n",
       " 3.0,\n",
       " 120.0,\n",
       " 5.0,\n",
       " 4.0,\n",
       " 4.0,\n",
       " 28.0,\n",
       " 4.0,\n",
       " 168.0,\n",
       " 0.0,\n",
       " 6.0,\n",
       " 4.0,\n",
       " 12.0,\n",
       " 3.0,\n",
       " 6.0,\n",
       " 4.0,\n",
       " 12.0,\n",
       " 3.0,\n",
       " 6.0,\n",
       " 0.0,\n",
       " 4.0,\n",
       " 6.0,\n",
       " 34.0,\n",
       " 30.0,\n",
       " 3.0,\n",
       " 4.0,\n",
       " 156.0,\n",
       " 3.0,\n",
       " 5.0,\n",
       " 5.0,\n",
       " 4.0,\n",
       " 0.2,\n",
       " 3.0,\n",
       " 144.0,\n",
       " 5.0,\n",
       " 3.0,\n",
       " 32.0,\n",
       " 50.0,\n",
       " 5.0,\n",
       " 15.0,\n",
       " 7.0,\n",
       " 12.0,\n",
       " 0.2,\n",
       " 6.0,\n",
       " 8.0,\n",
       " 4.0,\n",
       " 4.0,\n",
       " 10.0,\n",
       " 6.0,\n",
       " 1.0,\n",
       " 1.0,\n",
       " 11.0,\n",
       " 4.0,\n",
       " 7.0,\n",
       " 5.0,\n",
       " 8.0,\n",
       " 9.0,\n",
       " 8.0,\n",
       " 7.0,\n",
       " 2.0,\n",
       " 2.0,\n",
       " 0.03015075376884422,\n",
       " 12.0,\n",
       " 4.0,\n",
       " 8.0,\n",
       " 4.0,\n",
       " 9.0,\n",
       " 5.0,\n",
       " 1.0,\n",
       " 1.0,\n",
       " 4.0,\n",
       " 6.0,\n",
       " 4.0,\n",
       " 10.0,\n",
       " 3.0,\n",
       " 9.0,\n",
       " 2.0,\n",
       " 3.0,\n",
       " 5.0,\n",
       " 9.0,\n",
       " 2.0,\n",
       " 9.0,\n",
       " 6.0,\n",
       " 3.0,\n",
       " 6.0,\n",
       " 12.0,\n",
       " 5.0,\n",
       " 1.0,\n",
       " 1.0,\n",
       " 0.2222222222222222,\n",
       " 4.0,\n",
       " 13.0,\n",
       " 5.0,\n",
       " 3.0,\n",
       " 9.0,\n",
       " 4.0,\n",
       " 0.0,\n",
       " 10.0,\n",
       " 5.0,\n",
       " 6.0,\n",
       " 2.0,\n",
       " 0.0,\n",
       " 2.0,\n",
       " 5.0,\n",
       " 6.0,\n",
       " 1.0,\n",
       " 1.0,\n",
       " 0.2,\n",
       " 14.0,\n",
       " 4.0,\n",
       " 0.0,\n",
       " 4.0,\n",
       " 2.0,\n",
       " 3.0,\n",
       " 8.0,\n",
       " 4.0,\n",
       " 5.0,\n",
       " 25.0,\n",
       " 3.0,\n",
       " 3.0,\n",
       " 4.0,\n",
       " 3.0,\n",
       " 3.0,\n",
       " 3.0,\n",
       " 4.0,\n",
       " 0.8,\n",
       " 3.0,\n",
       " 98.0,\n",
       " 4.0,\n",
       " 4.0,\n",
       " 3.3333333333333335,\n",
       " 8.0,\n",
       " 9.0,\n",
       " 20.0,\n",
       " 6.0,\n",
       " 84.0,\n",
       " 3.0,\n",
       " 0,\n",
       " 3.0,\n",
       " 5.0,\n",
       " 91.0,\n",
       " 15.0,\n",
       " 10.0,\n",
       " 8.0,\n",
       " 5.0,\n",
       " 4.0,\n",
       " 4.0,\n",
       " 2.0,\n",
       " 3.0,\n",
       " 3.0,\n",
       " 4.0,\n",
       " 3.0,\n",
       " 1.0,\n",
       " 3.0,\n",
       " 4.0,\n",
       " 4.0,\n",
       " 0.0,\n",
       " 11.0,\n",
       " 7.0,\n",
       " 6.0,\n",
       " 70.0,\n",
       " 15.0,\n",
       " 0.18518518518518517,\n",
       " 3.0,\n",
       " 0.02040816326530612,\n",
       " 3.0,\n",
       " 15.0,\n",
       " 77.0,\n",
       " 8.0,\n",
       " 2.6666666666666665]"
      ]
     },
     "execution_count": 45,
     "metadata": {},
     "output_type": "execute_result"
    }
   ],
   "source": [
    "acc"
   ]
  },
  {
   "cell_type": "code",
   "execution_count": 41,
   "metadata": {},
   "outputs": [
    {
     "data": {
      "text/plain": [
       "2.7693637308212096"
      ]
     },
     "execution_count": 41,
     "metadata": {},
     "output_type": "execute_result"
    }
   ],
   "source": [
    "sum(acc)/224"
   ]
  },
  {
   "cell_type": "code",
   "execution_count": 18,
   "metadata": {},
   "outputs": [
    {
     "data": {
      "text/plain": [
       "[['3200', '906', 'AUST HOUSE & GARDEN', '9-Jun', 'Covers Only', '4.7385', '1'],\n",
       " ['3167',\n",
       "  '906',\n",
       "  'AUST PERSONAL COMPUTER',\n",
       "  '9-Jun',\n",
       "  'Covers Only',\n",
       "  '6.7839',\n",
       "  '3'],\n",
       " ['2929', '924', 'AUTO ACTION', '#1344', 'Covers Only', '3.8181', '3'],\n",
       " ['5356', '901', 'BEAUT BEADED BAGS', '# 1', 'Full Copies', '10.1929', '3'],\n",
       " ['5950', '901', 'BETTER PHOTOGRAPHY', '#55', 'Full Copies', '8.8293', '3'],\n",
       " ['60009', '905', 'BLISS', '9-Apr', 'Covers Only', '4.0567', '1'],\n",
       " ['6454', '911', 'CARRY ON DVD NAT', 'NO 32', 'Full Copies', '13.6019', '1'],\n",
       " ['7127', '911', 'CL WAR MOVIES NAT', 'NO 30', 'Full Copies', '13.6019', '1'],\n",
       " ['5210',\n",
       "  '902',\n",
       "  'COSMOPOLITAN PREGNANCY',\n",
       "  'WINT09',\n",
       "  'Full Copies',\n",
       "  '9.2043',\n",
       "  '3'],\n",
       " ['5714',\n",
       "  '905',\n",
       "  'CRDMKNG STMPNG&PPRCRFT',\n",
       "  'V14#11',\n",
       "  'Full Copies',\n",
       "  '6.7839',\n",
       "  '3'],\n",
       " ['7663', '911', 'DORA DOLL NAT', 'NO 24', 'Full Copies', '5.4203', '1'],\n",
       " ['1876', '924', 'ECONOMIST THE', '13-Jun', 'Covers Only', '7.1589', '4'],\n",
       " ['1942', '923', 'ENG WOMANS WEEKLY', '16-Jun', 'Covers Only', '2.2499', '1'],\n",
       " ['5919', '906', 'FAST FOURS', '9-Jun', 'Full Copies', '6.7839', '2']]"
      ]
     },
     "execution_count": 18,
     "metadata": {},
     "output_type": "execute_result"
    }
   ],
   "source": [
    "s[1]"
   ]
  },
  {
   "cell_type": "code",
   "execution_count": null,
   "metadata": {},
   "outputs": [],
   "source": []
  }
 ],
 "metadata": {
  "kernelspec": {
   "display_name": "Python 3",
   "language": "python",
   "name": "python3"
  },
  "language_info": {
   "codemirror_mode": {
    "name": "ipython",
    "version": 3
   },
   "file_extension": ".py",
   "mimetype": "text/x-python",
   "name": "python",
   "nbconvert_exporter": "python",
   "pygments_lexer": "ipython3",
   "version": "3.11.5"
  }
 },
 "nbformat": 4,
 "nbformat_minor": 2
}
